{
 "cells": [
  {
   "cell_type": "code",
   "execution_count": 1,
   "metadata": {},
   "outputs": [],
   "source": [
    "# Sample program for one scrip\n",
    "from ib_insync import *\n",
    "util.startLoop()\n",
    "# ib=IB().connect('127.0.0.1', 7496, clientId=9) # kavi tws live\n",
    "ib = IB().connect('127.0.0.1', 4001, clientId=9) # kavi IBG live"
   ]
  },
  {
   "cell_type": "code",
   "execution_count": 2,
   "metadata": {},
   "outputs": [
    {
     "name": "stdout",
     "output_type": "stream",
     "text": [
      "Wall time: 1min 48s\n"
     ]
    }
   ],
   "source": [
    "%%time\n",
    "import numpy as np\n",
    "import pandas as pd\n",
    "from itertools import product\n",
    "import datetime\n",
    "\n",
    "import utils # for catch function\n",
    "\n",
    "# sd multiple for band\n",
    "sigma = 2       # 2 sigma is about 95% probability\n",
    "penalty = 1.8   # e.g. 1.2 is 20% above\n",
    "\n",
    "# market\n",
    "exchange = 'NSE'\n",
    "\n",
    "#... prepare lot dataframe for underlying\n",
    "# from 5paisa\n",
    "paisaurl = \"https://www.5paisa.com/5pit/spma.asp\"\n",
    "df_paisa = pd.read_html(paisaurl, header=0)[1].drop_duplicates(subset='Symbol')\n",
    "\n",
    "# Rename Symbol and Margin fields\n",
    "df_paisa = df_paisa.rename(columns={'Symbol': 'nseSymbol', 'TotMgn%': 'marginpct'})\n",
    "\n",
    "# Convert columns to numeric and make margin to pct\n",
    "df_paisa = df_paisa.apply(pd.to_numeric, errors='ignore')\n",
    "df_paisa.marginpct = df_paisa.marginpct.div(100)\n",
    "\n",
    "# Truncate to 9 characters for ibSymbol\n",
    "df_paisa['ibSymbol'] = df_paisa.nseSymbol.str.slice(0,9)\n",
    "\n",
    "# nseSymbol to ibSymbol dictionary for conversion\n",
    "ntoi = {'M&M': 'MM', 'M&MFIN': 'MMFIN', 'L&TFH': 'LTFH', 'NIFTY': 'NIFTY50'}\n",
    "\n",
    "# remap ibSymbol, based on the dictionary\n",
    "df_paisa.ibSymbol = df_paisa.ibSymbol.replace(ntoi)\n",
    "\n",
    "# %%time\n",
    "#... Get the scrip\n",
    "symbol = 'RELIANCE'\n",
    "contract = ib.qualifyContracts(Stock(symbol, exchange))[0]\n",
    "\n",
    "#... Get volatility, hi52 and lo52\n",
    "duration = '12 M'\n",
    "size = '1 day'\n",
    "bars = ib.reqHistoricalData(contract=contract, endDateTime='', \n",
    "                     durationStr=duration, barSizeSetting=size, \n",
    "                     whatToShow='TRADES', useRTH=True, \n",
    "                     formatDate=1, keepUpToDate=True)\n",
    "\n",
    "stDev = np.std(a=[b.close for b in bars], ddof=0)\n",
    "\n",
    "hi52 = max([b.high for b in bars])\n",
    "lo52 = min([b.low for b in bars])\n",
    "\n",
    "meanPrice = np.mean([b.close for b in bars])\n",
    "\n",
    "#... Get the lot and margin\n",
    "lot = df_paisa.loc[df_paisa.ibSymbol == symbol, 'Mlot'].item()\n",
    "margin = df_paisa.loc[df_paisa.ibSymbol == symbol, 'TotMgnPerLt'].item()\n",
    "\n",
    "#... Get the option chain tickers\n",
    "chains = ib.reqSecDefOptParams(underlyingSymbol=contract.symbol, \n",
    "                      futFopExchange='', \n",
    "                      underlyingConId=contract.conId, underlyingSecType=contract.secType)\n",
    "\n",
    "expiries = set(*[c.expirations for c in chains])\n",
    "\n",
    "cds = [ib.reqContractDetails(Option(symbol, e, exchange='NSE')) for e in expiries]\n",
    "\n",
    "options = [c.contract for cs in cds for c in cs]\n",
    "\n",
    "tickers = [t for i in range(0, len(options), 100) for t in ib.reqTickers(*options[i:i + 100])]    \n",
    "ib.sleep(5)   # gives some time to fill the tickers    \n",
    "tickers = [t for i in range(0, len(options), 100) for t in ib.reqTickers(*options[i:i + 100])]\n",
    "\n",
    "# keep only those tickers with underlying prices\n",
    "lib_t = {t: utils.catch(lambda: t.modelGreeks.undPrice) for t in tickers}\n",
    "und_t = [k for k, v in lib_t.items() if v is not None]\n",
    "\n",
    "\n",
    "#... Weed out unwanted SDs and make the option chain dataframe\n",
    "# keep only the Ps and Cs outside the sigma band (95% probability)\n",
    "tgt_ts = [t for t in und_t \n",
    "if ((t.contract.strike < t.modelGreeks.undPrice - stDev*sigma) & (t.contract.right == 'P')) | \n",
    "((t.contract.strike > t.modelGreeks.undPrice + stDev*sigma) & (t.contract.right == 'C'))]\n",
    "\n",
    "# ... Build the dataframe\n",
    "ts = [(t.contract.conId, t.contract.symbol, t.contract.lastTradeDateOrContractMonth, t.contract.strike, t.contract.right, t.modelGreeks.undPrice,\n",
    "  t.contract.localSymbol, t.bid, t.bidSize, t.ask, t.askSize, t.close, t.modelGreeks.impliedVol, t.modelGreeks.delta, t.modelGreeks.optPrice, \n",
    "  t.modelGreeks.pvDividend, t.modelGreeks.gamma, t.modelGreeks.vega, t.modelGreeks.theta, lot, margin, hi52, lo52, meanPrice, stDev, t) for t in tgt_ts]\n",
    "\n",
    "cols = ['conId', 'ibSymbol', 'expiry', 'strike', 'right', 'undPrice', \n",
    "        'localSymbol', 'bid', 'bidSize', 'ask', 'askSize', 'close', 'impliedVol', 'delta', 'optPrice', \n",
    "        'pvDividend', 'gamma', 'vega', 'theta', 'lot', 'margin', 'undHi', 'undLo', 'undMean', 'stdev', 'ticker']\n",
    "df = pd.DataFrame(ts, columns=cols).sort_values(by=['expiry', 'strike'], ascending=False).reset_index(drop=True)\n",
    "\n",
    "# Expected price is rounded up to 0.05 after putting the penalty\n",
    "df['expPrice'] = round(df[['bid', 'ask', 'close']].max(axis=1)*penalty * 2, 1)/2\n",
    "\n",
    "df['dte'] = (pd.to_datetime(df.expiry) - datetime.datetime.now()).dt.days\n",
    "\n",
    "# make negative dtes to 1 to accommodate last day option expiries\n",
    "df.loc[df.dte <= 0, 'dte'] = 1\n",
    "\n",
    "df['rom'] = (df.expPrice*df.lot)/df.margin*252/df.dte"
   ]
  },
  {
   "cell_type": "code",
   "execution_count": 10,
   "metadata": {},
   "outputs": [
    {
     "data": {
      "text/plain": [
       "Ticker(contract=Option(conId=347808528, symbol='RELIANCE', lastTradeDateOrContractMonth='20190328', strike=720.0, right='C', multiplier='1', exchange='NSE', currency='INR', localSymbol='RELIANCE19MAR720CE', tradingClass='RELIANCE'), time=datetime.datetime(2018, 12, 30, 2, 7, 14, 69990, tzinfo=datetime.timezone.utc), bid=-1.0, bidSize=0, ask=-1.0, askSize=0, close=0.0, ticks=[], tickByTicks=[], domBids=[], domAsks=[], domTicks=[], modelGreeks=OptionComputation(impliedVol=0.329396363820029, delta=0.9981941220884879, optPrice=412.0361153031954, pvDividend=0.0, gamma=3.183278938251716e-05, vega=0.031841575456494464, theta=-0.09923718106870183, undPrice=1120.2))"
      ]
     },
     "execution_count": 10,
     "metadata": {},
     "output_type": "execute_result"
    }
   ],
   "source": [
    "tickers[0]"
   ]
  },
  {
   "cell_type": "code",
   "execution_count": null,
   "metadata": {},
   "outputs": [],
   "source": [
    "df.loc[:, ['ibSymbol', 'strike', 'expiry', 'dte', 'right', 'stdev', 'undLo', 'undHi', 'undPrice', 'undMean', 'close', 'expPrice', 'delta', 'rom']]"
   ]
  }
 ],
 "metadata": {
  "kernelspec": {
   "display_name": "Python 3",
   "language": "python",
   "name": "python3"
  },
  "language_info": {
   "codemirror_mode": {
    "name": "ipython",
    "version": 3
   },
   "file_extension": ".py",
   "mimetype": "text/x-python",
   "name": "python",
   "nbconvert_exporter": "python",
   "pygments_lexer": "ipython3",
   "version": "3.7.1"
  }
 },
 "nbformat": 4,
 "nbformat_minor": 2
}
