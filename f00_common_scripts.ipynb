{
 "cells": [
  {
   "cell_type": "markdown",
   "metadata": {},
   "source": [
    "# Purpose\n",
    "This is a repository of common scripts re-used in programs and funcitions\n",
    "\n",
    "## Run ib_sync"
   ]
  },
  {
   "cell_type": "code",
   "execution_count": null,
   "metadata": {},
   "outputs": [],
   "source": [
    "#***          Start ib_insync (run once)       *****\n",
    "#_______________________________________________\n",
    "\n",
    "from ib_insync import *\n",
    "util.startLoop()\n",
    "ib = IB().connect('127.0.0.1', 7497, clientId=3) # rkv tws live\n",
    "# ib = IB().connect('127.0.0.1', 7496, clientId=3) # kavi tws live\n",
    "# ib = IB().connect('127.0.0.1', 4001, clientId=0) # kavi IBG live\n",
    "# ib = IB().connect('127.0.0.1', 7499, clientId=1) # kavi tws paper-trade\n",
    "# ib = IB().connect('127.0.0.1', 4004, clientId=2) # kavi IBG paper-trade\n"
   ]
  },
  {
   "cell_type": "markdown",
   "metadata": {},
   "source": [
    "## Paths and Variables"
   ]
  },
  {
   "cell_type": "code",
   "execution_count": null,
   "metadata": {},
   "outputs": [],
   "source": [
    "#******         Paths and variables         ****\n",
    "#_______________________________________________\n",
    "\n",
    "datapath = r'./zdata/'"
   ]
  },
  {
   "cell_type": "markdown",
   "metadata": {},
   "source": [
    "## Error catching in list comprehension"
   ]
  },
  {
   "cell_type": "code",
   "execution_count": null,
   "metadata": {},
   "outputs": [],
   "source": [
    "#******   Error catch in list comprehension  ****\n",
    "#________________________________________________\n",
    "\n",
    "def catch(func, handle=lambda e : e, *args, **kwargs):\n",
    "    '''List comprehension error catcher'''\n",
    "    try:\n",
    "        return func(*args, **kwargs)\n",
    "    except Exception as e:\n",
    "        pass"
   ]
  },
  {
   "cell_type": "markdown",
   "metadata": {},
   "source": [
    "# Get Standard Deviation for an NSE scrip\n",
    "This function gets price for NSE scrips from IBKR"
   ]
  },
  {
   "cell_type": "code",
   "execution_count": null,
   "metadata": {},
   "outputs": [],
   "source": [
    "#... Get the scrip\n",
    "symbol = 'RELIANCE'\n",
    "contract = ib.qualifyContracts(Stock(symbol, exchange))[0]\n",
    "\n",
    "#... Get stdev, hi52 and lo52\n",
    "duration = '12 M'\n",
    "size = '1 day'\n",
    "bars = ib.reqHistoricalData(contract=contract, endDateTime='', \n",
    "                     durationStr=duration, barSizeSetting=size, \n",
    "                     whatToShow='TRADES', useRTH=True, \n",
    "                     formatDate=1, keepUpToDate=True)\n",
    "\n",
    "stDev = np.std(a=[b.close for b in bars], ddof=0)\n",
    "\n",
    "hi52 = max([b.high for b in bars])\n",
    "lo52 = min([b.low for b in bars])\n",
    "\n",
    "meanPrice = np.mean([b.close for b in bars])"
   ]
  },
  {
   "cell_type": "markdown",
   "metadata": {},
   "source": [
    "# Get option prices with greeks (via tickers)\n",
    "The best way to extract greeks and prices for options is to get them through the option chain and expiries as follows..."
   ]
  },
  {
   "cell_type": "code",
   "execution_count": null,
   "metadata": {},
   "outputs": [],
   "source": [
    "#... Get the scrip\n",
    "symbol = 'RELIANCE'\n",
    "contract = ib.qualifyContracts(Stock(symbol, exchange))[0]\n",
    "\n",
    "#... Get the option chain tickers\n",
    "chains = ib.reqSecDefOptParams(underlyingSymbol=contract.symbol, \n",
    "                      futFopExchange='', \n",
    "                      underlyingConId=contract.conId, underlyingSecType=contract.secType)\n",
    "\n",
    "expiries = set(*[c.expirations for c in chains])\n",
    "\n",
    "cds = [ib.reqContractDetails(Option(symbol, e, exchange='NSE')) for e in expiries]\n",
    "\n",
    "options = [c.contract for cs in cds for c in cs]\n",
    "\n",
    "tickers = [t for i in range(0, len(options), 100) for t in ib.reqTickers(*options[i:i + 100])]    \n",
    "ib.sleep(5)   # gives some time to fill the tickers    \n",
    "tickers = [t for i in range(0, len(options), 100) for t in ib.reqTickers(*options[i:i + 100])]\n",
    "\n",
    "# keep only those tickers with underlying prices\n",
    "lib_t = {t: utils.catch(lambda: t.modelGreeks.undPrice) for t in tickers}\n",
    "und_t = [k for k, v in lib_t.items() if v is not None]"
   ]
  }
 ],
 "metadata": {
  "kernelspec": {
   "display_name": "Python 3",
   "language": "python",
   "name": "python3"
  },
  "language_info": {
   "codemirror_mode": {
    "name": "ipython",
    "version": 3
   },
   "file_extension": ".py",
   "mimetype": "text/x-python",
   "name": "python",
   "nbconvert_exporter": "python",
   "pygments_lexer": "ipython3",
   "version": "3.7.1"
  }
 },
 "nbformat": 4,
 "nbformat_minor": 2
}
